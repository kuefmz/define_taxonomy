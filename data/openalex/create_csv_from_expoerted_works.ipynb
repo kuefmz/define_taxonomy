{
 "cells": [
  {
   "cell_type": "code",
   "execution_count": 164,
   "metadata": {},
   "outputs": [],
   "source": [
    "import pandas as pd\n",
    "import requests\n",
    "import xml.etree.ElementTree as ET\n",
    "import json"
   ]
  },
  {
   "cell_type": "code",
   "execution_count": null,
   "metadata": {},
   "outputs": [],
   "source": [
    "concept_id_name_json = {}"
   ]
  },
  {
   "cell_type": "code",
   "execution_count": 6,
   "metadata": {},
   "outputs": [],
   "source": [
    "works_df = pd.read_csv('works.csv', delimiter=',')\n",
    "works_100 = works_df.head(100)"
   ]
  },
  {
   "cell_type": "code",
   "execution_count": 62,
   "metadata": {},
   "outputs": [
    {
     "name": "stdout",
     "output_type": "stream",
     "text": [
      "Empty DataFrame\n",
      "Columns: [Title, OpenAlexConcepts]\n",
      "Index: []\n"
     ]
    }
   ],
   "source": [
    "columns = ['Title', 'OpenAlexConcepts']\n",
    "df = pd.DataFrame(columns=columns)\n",
    "print(df.head())"
   ]
  },
  {
   "cell_type": "code",
   "execution_count": 158,
   "metadata": {},
   "outputs": [
    {
     "name": "stdout",
     "output_type": "stream",
     "text": [
      "Empty DataFrame\n",
      "Columns: [Title, OpenAlexConcepts, OpenAIRESubjects_fromMag]\n",
      "Index: []\n"
     ]
    }
   ],
   "source": [
    "columns = ['Title', 'OpenAlexConcepts', 'OpenAIRESubjects_fromMag']\n",
    "df1 = pd.DataFrame(columns=columns)\n",
    "print(df1.head())"
   ]
  },
  {
   "cell_type": "code",
   "execution_count": 74,
   "metadata": {},
   "outputs": [],
   "source": [
    "\n",
    "concept_base_url = \"https://api.openalex.org/concepts/\"\n",
    "openaire_base_url = \"https://api.openaire.eu/search/publications?fromDateAccepted=1990-01-01&toDateAccepted=1990-12-31&title=\""
   ]
  },
  {
   "cell_type": "code",
   "execution_count": 57,
   "metadata": {},
   "outputs": [],
   "source": [
    "def get_concept_name_from_contept_id(concept_id: str):\n",
    "    concept_id = concept_id.split('/')[-1]\n",
    "    if concept_id in concept_id_name_json.keys():\n",
    "        return concept_id_name_json[concept_id]\n",
    "    else:\n",
    "        url = concept_base_url + concept_id\n",
    "        response = requests.get(url)\n",
    "        if response.status_code == 200:\n",
    "            concept_name = response.json()['display_name']\n",
    "            concept_id_name_json[concept_id] = concept_name\n",
    "            return concept_name"
   ]
  },
  {
   "cell_type": "code",
   "execution_count": 135,
   "metadata": {},
   "outputs": [],
   "source": [
    "def get_openaire_subjects(response_text: str, orig_title: str):\n",
    "    subjects = []\n",
    "    tree = ET.fromstring(response_text)\n",
    "    try:\n",
    "        metadata = tree.findall('results')[0].findall('result')[0].findall('metadata')[0]\n",
    "        subjects_xml = metadata.findall('{http://namespace.openaire.eu/oaf}entity')[0].findall('{http://namespace.openaire.eu/oaf}result')[0].findall('subject')\n",
    "        for subject in subjects_xml:\n",
    "            subjects.append(subject.text)\n",
    "    except:\n",
    "        print(f'Not found: {orig_title}')\n",
    "    #print(tree.findall('results')[0].findall('result')[0].findall('metadata')[0].findall('entity'))#.findall('oaf:result')[0].findall('subject'))\n",
    "    return subjects"
   ]
  },
  {
   "cell_type": "code",
   "execution_count": 166,
   "metadata": {},
   "outputs": [
    {
     "name": "stdout",
     "output_type": "stream",
     "text": [
      "Not found: Scale-space and edge detection using anisotropic diffusion\n",
      "Not found: The R*-tree: an efficient and robust access method for points and rectangles\n",
      "Not found: A logic of authentication\n",
      "Not found: Advanced mammalian gene transfer: high titre retroviral vectors with multiple drug selection markers and a complementary helper-free packaging cell line\n",
      "Not found: Multiquadrics—A scattered data approximation scheme with applications to computational fluid-dynamics—II solutions to parabolic, hyperbolic and elliptic partial differential equations\n",
      "Not found: Matrix pencil method for estimating parameters of exponentially damped/undamped sinusoids in noise\n",
      "Not found: Elephants don't play chess\n",
      "Not found: <i>Tracking and Data Association</i>\n",
      "Not found: Knowledge and common knowledge in a distributed environment\n",
      "Not found: Knowing what to think by knowing who you are: Self‐categorization and the nature of norm formation, conformity and group polarization*\n",
      "Not found: Scale-space for discrete signals\n",
      "Not found: <i>Adaptive Control: Stability, Convergence, and Robustness</i>\n",
      "Not found: What you look at is what you get: eye movement-based interaction techniques\n",
      "Not found: Disruption of experience-dependent synaptic modifications in striate cortex by infusion of an NMDA receptor antagonist\n",
      "Not found: Noun classification from predicate-argument structures\n",
      "Not found: A cache-based natural language model for speech recognition\n",
      "Not found: Optimum transmission ranges in a direct-sequence spread-spectrum multihop packet radio network\n",
      "Not found: Height and gradient from shading\n",
      "Not found: The Ecology of Human-Machine Systems II: Mediating 'Direct Perception' in Complex Work Domains\n",
      "Not found: A linear-time probabilistic counting algorithm for database applications\n",
      "Not found: The use of cone-shaped kernels for generalized time-frequency representations of nonstationary signals\n",
      "Not found: Application of affine-invariant Fourier descriptors to recognition of 3-D objects\n",
      "Not found: Mutation-selection balance and the evolutionary advantage of sex and recombination\n"
     ]
    }
   ],
   "source": [
    "data_json = {}\n",
    "for idx, row in works_100.iterrows():\n",
    "     concept_ids_row = row['concept_ids']\n",
    "     concept_ids_row = concept_ids_row.split('|')\n",
    "     if pd.isna(row['display_name']):\n",
    "          continue\n",
    "     title = row['display_name']\n",
    "     if title and str(title) != \"\":\n",
    "          title_words = title.split(' ')\n",
    "          title_search_string = \"\"\n",
    "          for word in title_words:\n",
    "               word_clean = ''.join(x for x in word if x.isalpha())\n",
    "               title_search_string += word_clean.lower() + ' '\n",
    "          url = openaire_base_url+title_search_string\n",
    "          response = requests.get(url)\n",
    "          if response.status_code == 200:\n",
    "               openaire_subjects = get_openaire_subjects(response.text, title)\n",
    "          concepts = []\n",
    "          for concept_id in concept_ids_row:\n",
    "               concepts.append(get_concept_name_from_contept_id(concept_id))\n",
    "          concepts.sort()\n",
    "          concepts = \" | \".join(concepts)\n",
    "          openaire_subjects.sort()\n",
    "          openaire_subjects = \" | \".join(openaire_subjects)\n",
    "          data_json[title] = {\n",
    "               'openaire': openaire_subjects,\n",
    "               'openalex': concepts\n",
    "          }\n",
    "          #new_row = {'Title': title, 'OpenAlexConcepts': concepts, 'OpenAIRESubjects_fromMag': openaire_subjects}\n",
    "          df1.loc[len(df1.index)] = [title, concepts, openaire_subjects]  "
   ]
  },
  {
   "cell_type": "code",
   "execution_count": 167,
   "metadata": {},
   "outputs": [],
   "source": [
    "import json\n",
    "with open('data.json', 'w') as f:\n",
    "    json.dump(data_json, f, indent=4)"
   ]
  },
  {
   "cell_type": "code",
   "execution_count": 168,
   "metadata": {},
   "outputs": [
    {
     "name": "stdout",
     "output_type": "stream",
     "text": [
      "                                               Title  \\\n",
      "0  MAXIMUM LIKELIHOOD ESTIMATION AND INFERENCE ON...   \n",
      "1               Indexing by latent semantic analysis   \n",
      "2  Scale-space and edge detection using anisotrop...   \n",
      "3  Backpropagation through time: what it does and...   \n",
      "4                           Neural network ensembles   \n",
      "\n",
      "                                    OpenAlexConcepts  \\\n",
      "0  Cointegration | Inference | Economics | Econom...   \n",
      "1  Singular value decomposition | Latent semantic...   \n",
      "2  Scale space | Smoothing | Anisotropic diffusio...   \n",
      "3  Backpropagation | Computer science | Artificia...   \n",
      "4  Artificial intelligence | Artificial neural ne...   \n",
      "\n",
      "                            OpenAIRESubjects_fromMag  \n",
      "0  Statistics and Probability | Economics and Eco...  \n",
      "1  Random indexing | Information retrieval | Prob...  \n",
      "2                                                     \n",
      "3  Recurrent neural network | Nonlinear system id...  \n",
      "4  fault tolerant computing | Artificial neural n...  \n"
     ]
    }
   ],
   "source": [
    "print(df1.head())\n",
    "df1.drop_duplicates(inplace=True)\n",
    "df1.to_csv('title_concept_openalex_openaire.csv', index=False, sep=';')"
   ]
  },
  {
   "cell_type": "code",
   "execution_count": 68,
   "metadata": {},
   "outputs": [],
   "source": [
    "df.to_csv('title_concept_openalex.csv', index=False, sep=';')"
   ]
  },
  {
   "cell_type": "code",
   "execution_count": 43,
   "metadata": {},
   "outputs": [
    {
     "name": "stdout",
     "output_type": "stream",
     "text": [
      "<!DOCTYPE html>\n",
      "<html lang=\"en\"><head><meta charset=\"utf-8\"/><meta content=\"IE=edge\" http-equiv=\"X-UA-Compatible\"/><meta content=\"width=device-width,initial-scale=1\" name=\"viewport\"/><link href=\"/favicon.png\" rel=\"icon\"/><title>OpenAlex</title><link href=\"https://fonts.googleapis.com/css?family=Roboto:100,300,400,500,700,900\" rel=\"stylesheet\"/><link href=\"https://fonts.googleapis.com/css2?family=Dosis:wght@100;200;300;400;500;600;700;800;900&amp;display=swap\" rel=\"stylesheet\"/><script data-domain=\"openalex.org\" defer=\"defer\" src=\"https://plausible.io/js/script.outbound-links.js\"></script><script defer=\"defer\" src=\"/js/chunk-vendors.60cd1a0b.js\"></script><script defer=\"defer\" src=\"/js/app.a33bef98.js\"></script><link href=\"/css/chunk-vendors.66ac864e.css\" rel=\"stylesheet\"/><link href=\"/css/app.0606547f.css\" rel=\"stylesheet\"/></head><body><noscript><strong>We're sorry but ourresearch-website-2 doesn't work properly without JavaScript enabled. Please enable it to continue.</strong></noscript><div id=\"app\"></div></body></html>\n"
     ]
    }
   ],
   "source": []
  }
 ],
 "metadata": {
  "kernelspec": {
   "display_name": "define-taxonomy-tACOuNy0-py3.10",
   "language": "python",
   "name": "python3"
  },
  "language_info": {
   "codemirror_mode": {
    "name": "ipython",
    "version": 3
   },
   "file_extension": ".py",
   "mimetype": "text/x-python",
   "name": "python",
   "nbconvert_exporter": "python",
   "pygments_lexer": "ipython3",
   "version": "3.10.12"
  }
 },
 "nbformat": 4,
 "nbformat_minor": 2
}

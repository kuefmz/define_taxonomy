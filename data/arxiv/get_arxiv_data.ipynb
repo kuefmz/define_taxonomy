{
 "cells": [
  {
   "cell_type": "code",
   "execution_count": 1,
   "id": "4b625941",
   "metadata": {},
   "outputs": [],
   "source": [
    "import requests\n",
    "import re\n",
    "from xml.etree import ElementTree"
   ]
  },
  {
   "cell_type": "code",
   "execution_count": 24,
   "id": "14ac97f0",
   "metadata": {},
   "outputs": [],
   "source": [
    "def fetch_arxiv_data(cat, max_results=5):\n",
    "    base_url = 'http://export.arxiv.org/api/query?'\n",
    "    params = {\n",
    "        'search_query': f'cat:{cat}',#fetch data from AI category\n",
    "        'start': 0,\n",
    "        'max_results': max_results,\n",
    "        'sortBy': 'submittedDate',\n",
    "        'sortOrder': 'descending'\n",
    "    }\n",
    "    response = requests.get(base_url, params=params)\n",
    "    arxiv_data = response.text\n",
    "    root = ElementTree.fromstring(arxiv_data)\n",
    "    entries = root.findall('{http://www.w3.org/2005/Atom}entry')\n",
    "    for entry in entries:\n",
    "        \n",
    "        title = entry.find('{http://www.w3.org/2005/Atom}title').text.strip()\n",
    "        published = entry.find('{http://www.w3.org/2005/Atom}published').text\n",
    "        year_of_publication = published[:4]  # Extract year from the date\n",
    "        categories = [category.attrib['term'] for category in entry.findall('{http://www.w3.org/2005/Atom}category')]\n",
    "        summary = entry.find('{http://www.w3.org/2005/Atom}summary').text\n",
    "        github_links = re.findall(r'https?://github\\.com/[\\w/.\\-]+', summary)\n",
    "        \n",
    "        res_json = {\n",
    "            'title': title,\n",
    "            'year_of_publication': year_of_publication,\n",
    "            'categories': categories,\n",
    "            'github_links': github_links\n",
    "        }\n",
    "        print(f'Res_json: {res_json}\\n\\n')"
   ]
  },
  {
   "cell_type": "code",
   "execution_count": 25,
   "id": "5b1393a8",
   "metadata": {},
   "outputs": [
    {
     "name": "stdout",
     "output_type": "stream",
     "text": [
      "Entries: <Element '{http://www.w3.org/2005/Atom}entry' at 0x7fd100164ea0>\n",
      "Res_json: {'title': 'SPHINX: The Joint Mixing of Weights, Tasks, and Visual Embeddings for\\n  Multi-modal Large Language Models', 'year_of_publication': '2023', 'categories': ['cs.CV', 'cs.AI', 'cs.CL', 'cs.LG'], 'github_links': ['https://github.com/Alpha-VLLM/LLaMA2-Accessory.']}\n",
      "\n",
      "\n",
      "Res_json: {'title': 'GPT-4V in Wonderland: Large Multimodal Models for Zero-Shot Smartphone\\n  GUI Navigation', 'year_of_publication': '2023', 'categories': ['cs.CV', 'cs.AI'], 'github_links': ['https://github.com/zzxslp/MM-Navigator.']}\n",
      "\n",
      "\n",
      "Res_json: {'title': 'An Extensive Study on Adversarial Attack against Pre-trained Models of\\n  Code', 'year_of_publication': '2023', 'categories': ['cs.CR', 'cs.AI'], 'github_links': []}\n",
      "\n",
      "\n",
      "Res_json: {'title': 'GPT-4V(ision) as A Social Media Analysis Engine', 'year_of_publication': '2023', 'categories': ['cs.CV', 'cs.AI', 'cs.CL', 'cs.MM'], 'github_links': []}\n",
      "\n",
      "\n",
      "Res_json: {'title': \"A Benchmark to Understand the Role of Knowledge Graphs on Large Language\\n  Model's Accuracy for Question Answering on Enterprise SQL Databases\", 'year_of_publication': '2023', 'categories': ['cs.AI', 'cs.CL', 'cs.DB'], 'github_links': []}\n",
      "\n",
      "\n"
     ]
    }
   ],
   "source": [
    "fetch_arxiv_data()"
   ]
  }
 ],
 "metadata": {
  "kernelspec": {
   "display_name": "Python 3 (ipykernel)",
   "language": "python",
   "name": "python3"
  },
  "language_info": {
   "codemirror_mode": {
    "name": "ipython",
    "version": 3
   },
   "file_extension": ".py",
   "mimetype": "text/x-python",
   "name": "python",
   "nbconvert_exporter": "python",
   "pygments_lexer": "ipython3",
   "version": "3.10.12"
  }
 },
 "nbformat": 4,
 "nbformat_minor": 5
}

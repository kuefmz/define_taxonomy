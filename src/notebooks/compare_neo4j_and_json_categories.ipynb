{
 "cells": [
  {
   "cell_type": "code",
   "execution_count": 5,
   "metadata": {},
   "outputs": [],
   "source": [
    "import pandas as pd"
   ]
  },
  {
   "cell_type": "code",
   "execution_count": 8,
   "metadata": {},
   "outputs": [],
   "source": [
    "df = pd.read_csv('../../data/categories_neo4j.csv')"
   ]
  },
  {
   "cell_type": "code",
   "execution_count": 21,
   "metadata": {},
   "outputs": [],
   "source": [
    "df['n.category_name'] = df['n.category_name'].str.strip('\"')\n",
    "df['n.source'] = df['n.source'].str.strip('\"')"
   ]
  },
  {
   "cell_type": "code",
   "execution_count": 9,
   "metadata": {},
   "outputs": [],
   "source": [
    "with open('../../data/openalex_categories_appeared_more_then_10_times.txt', 'r') as f:\n",
    "    openalex_categories = set(f.read().splitlines())\n",
    "\n",
    "with open('../../data/openaire_categories_appeared_more_then_10_times.txt', 'r') as f:\n",
    "    openaire_categories = set(f.read().splitlines())"
   ]
  },
  {
   "cell_type": "code",
   "execution_count": 22,
   "metadata": {},
   "outputs": [],
   "source": [
    "unique_categories_openalex = (set(df['n.category_name'][df['n.source']=='OpenAlex']) - openalex_categories)\n",
    "unique_categories_openaire = (set(df['n.category_name'][df['n.source']=='OpenAIRE']) - openaire_categories)"
   ]
  },
  {
   "cell_type": "code",
   "execution_count": 23,
   "metadata": {},
   "outputs": [
    {
     "data": {
      "text/plain": [
       "21                   fos computer and information sciences\n",
       "22                                        computer science\n",
       "23         computer vision and pattern recognition (cs cv)\n",
       "24       computer science - computer vision and pattern...\n",
       "25                              engineering and technology\n",
       "                               ...                        \n",
       "28723                                      social contract\n",
       "28724                              relaxation (psychology)\n",
       "28725                                              premise\n",
       "28727                                     anterior chamber\n",
       "28728                             ultrasound biomicroscopy\n",
       "Name: n.category_name, Length: 18218, dtype: object"
      ]
     },
     "execution_count": 23,
     "metadata": {},
     "output_type": "execute_result"
    }
   ],
   "source": [
    "df['n.category_name'][df['n.source']=='OpenAIRE']"
   ]
  },
  {
   "cell_type": "code",
   "execution_count": 25,
   "metadata": {},
   "outputs": [
    {
     "data": {
      "text/plain": [
       "0"
      ]
     },
     "execution_count": 25,
     "metadata": {},
     "output_type": "execute_result"
    }
   ],
   "source": [
    "len(unique_categories_openalex)"
   ]
  }
 ],
 "metadata": {
  "kernelspec": {
   "display_name": "Python 3",
   "language": "python",
   "name": "python3"
  },
  "language_info": {
   "codemirror_mode": {
    "name": "ipython",
    "version": 3
   },
   "file_extension": ".py",
   "mimetype": "text/x-python",
   "name": "python",
   "nbconvert_exporter": "python",
   "pygments_lexer": "ipython3",
   "version": "3.10.12"
  }
 },
 "nbformat": 4,
 "nbformat_minor": 2
}

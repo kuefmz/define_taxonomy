{
 "cells": [
  {
   "cell_type": "code",
   "execution_count": 51,
   "id": "7724a4e7",
   "metadata": {},
   "outputs": [],
   "source": [
    "import requests\n",
    "import time\n",
    "import json"
   ]
  },
  {
   "cell_type": "code",
   "execution_count": 52,
   "id": "6285953b",
   "metadata": {},
   "outputs": [],
   "source": [
    "max_retries = 20\n",
    "base_url = 'http://api.openaire.eu/search/publications'"
   ]
  },
  {
   "cell_type": "code",
   "execution_count": 55,
   "id": "349520c3",
   "metadata": {},
   "outputs": [],
   "source": [
    "def get_publications_topics():\n",
    "    \n",
    "    page = 1\n",
    "    retries = 0\n",
    "    \n",
    "    while True:\n",
    "        params = {\n",
    "            'page': page,\n",
    "            'format': 'json',\n",
    "            'fos': 'engineering and technology'\n",
    "        }\n",
    "\n",
    "        try:\n",
    "            response = requests.get(base_url, params=params)\n",
    "            if response.status_code == 200:\n",
    "                data = response.json()\n",
    "                print(data['response']['results']['result'][0]['metadata']['oaf:entity']['oaf:result'].keys())\n",
    "                for publication in data['response']['results']['result']:\n",
    "                    # Extract topics from each publication if available\n",
    "                    print(publication['metadata']['oaf:entity']['oaf:result']['subject'])\n",
    "                    print(publication['metadata']['oaf:entity']['oaf:result']['datainfo'])\n",
    "                    with open('openaire_publication_example1.json', 'a+') as f:\n",
    "                            f.write(json.dumps(publication, indent=4))\n",
    "                    break\n",
    "                \n",
    "                if 'next' in data and data['next']:\n",
    "                    page += 1  # Go to the next page\n",
    "                    time.sleep(1)  # Sleep to respect rate limits\n",
    "                else:\n",
    "                    break  # No more pages\n",
    "            else:\n",
    "                print(f\"Failed to fetch data: {response.status_code}\")\n",
    "                break\n",
    "        except requests.exceptions.RequestException as e:\n",
    "            retries += 1\n",
    "            if retries > max_retries:\n",
    "                print(\"Maximum retries reached, stopping...\")\n",
    "                break\n",
    "            print(f\"Request failed: {e}, retrying...\")\n",
    "            time.sleep(5)  # Wait before retrying\n",
    "\n",
    "#if __name__ == \"__main__\":\n",
    "#    get_publications_topics()"
   ]
  },
  {
   "cell_type": "code",
   "execution_count": 56,
   "id": "5ecfcb00",
   "metadata": {
    "scrolled": true
   },
   "outputs": [
    {
     "name": "stdout",
     "output_type": "stream",
     "text": [
      "dict_keys(['collectedfrom', 'originalId', 'pid', 'measure', 'title', 'bestaccessright', 'creator', 'dateofacceptance', 'description', 'subject', 'language', 'relevantdate', 'publisher', 'source', 'resulttype', 'resourcetype', 'journal', 'datainfo', 'rels', 'children'])\n",
      "[{'@classid': 'MAG', '@classname': 'Microsoft Academic Graph classification', '@schemeid': 'dnet:subject_classification_typologies', '@schemename': 'dnet:subject_classification_typologies', '$': 'Block code'}, {'@classid': 'MAG', '@classname': 'Microsoft Academic Graph classification', '@schemeid': 'dnet:subject_classification_typologies', '@schemename': 'dnet:subject_classification_typologies', '$': 'Computer science'}, {'@classid': 'MAG', '@classname': 'Microsoft Academic Graph classification', '@schemeid': 'dnet:subject_classification_typologies', '@schemename': 'dnet:subject_classification_typologies', '$': 'MIMO'}, {'@classid': 'MAG', '@classname': 'Microsoft Academic Graph classification', '@schemeid': 'dnet:subject_classification_typologies', '@schemename': 'dnet:subject_classification_typologies', '$': 'Binary number'}, {'@classid': 'FOS', '@classname': 'Fields of Science and Technology classification', '@schemeid': 'dnet:subject_classification_typologies', '@schemename': 'dnet:subject_classification_typologies', '@inferred': True, '@inferenceprovenance': 'update', '@provenanceaction': 'subject:fos', '$': '020206 networking & telecommunications'}, {'@classid': 'FOS', '@classname': 'Fields of Science and Technology classification', '@schemeid': 'dnet:subject_classification_typologies', '@schemename': 'dnet:subject_classification_typologies', '@inferred': True, '@inferenceprovenance': 'update', '@provenanceaction': 'subject:fos', '$': '02 engineering and technology'}, {'@classid': 'MAG', '@classname': 'Microsoft Academic Graph classification', '@schemeid': 'dnet:subject_classification_typologies', '@schemename': 'dnet:subject_classification_typologies', '$': 'Antenna array'}, {'@classid': 'MAG', '@classname': 'Microsoft Academic Graph classification', '@schemeid': 'dnet:subject_classification_typologies', '@schemename': 'dnet:subject_classification_typologies', '$': 'Unimodular matrix'}, {'@classid': 'MAG', '@classname': 'Microsoft Academic Graph classification', '@schemeid': 'dnet:subject_classification_typologies', '@schemename': 'dnet:subject_classification_typologies', '$': 'Transmission (telecommunications)'}, {'@classid': 'MAG', '@classname': 'Microsoft Academic Graph classification', '@schemeid': 'dnet:subject_classification_typologies', '@schemename': 'dnet:subject_classification_typologies', '$': 'Binary Golay code'}, {'@classid': 'keyword', '@classname': 'keyword', '@schemeid': 'dnet:subject_classification_typologies', '@schemename': 'dnet:subject_classification_typologies', '$': 'Signal Processing'}, {'@classid': 'FOS', '@classname': 'Fields of Science and Technology classification', '@schemeid': 'dnet:subject_classification_typologies', '@schemename': 'dnet:subject_classification_typologies', '@inferred': True, '@inferenceprovenance': 'update', '@provenanceaction': 'subject:fos', '$': '0202 electrical engineering, electronic engineering, information engineering'}, {'@classid': 'keyword', '@classname': 'keyword', '@schemeid': 'dnet:subject_classification_typologies', '@schemename': 'dnet:subject_classification_typologies', '$': 'Electrical and Electronic Engineering'}, {'@classid': 'MAG', '@classname': 'Microsoft Academic Graph classification', '@schemeid': 'dnet:subject_classification_typologies', '@schemename': 'dnet:subject_classification_typologies', '$': 'Omnidirectional antenna'}, {'@classid': 'MAG', '@classname': 'Microsoft Academic Graph classification', '@schemeid': 'dnet:subject_classification_typologies', '@schemename': 'dnet:subject_classification_typologies', '$': 'Algorithm'}]\n",
      "{'inferred': {'$': False}, 'deletedbyinference': {'$': False}, 'trust': {'$': '0.9'}, 'inferenceprovenance': {'$': 'null'}, 'provenanceaction': {'@classid': 'sysimport:actionset', '@classname': 'Harvested', '@schemeid': 'dnet:provenanceActions', '@schemename': 'dnet:provenanceActions'}}\n"
     ]
    }
   ],
   "source": [
    "get_publications_topics()"
   ]
  }
 ],
 "metadata": {
  "kernelspec": {
   "display_name": "Python 3 (ipykernel)",
   "language": "python",
   "name": "python3"
  },
  "language_info": {
   "codemirror_mode": {
    "name": "ipython",
    "version": 3
   },
   "file_extension": ".py",
   "mimetype": "text/x-python",
   "name": "python",
   "nbconvert_exporter": "python",
   "pygments_lexer": "ipython3",
   "version": "3.10.12"
  }
 },
 "nbformat": 4,
 "nbformat_minor": 5
}

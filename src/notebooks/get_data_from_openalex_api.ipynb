{
 "cells": [
  {
   "cell_type": "code",
   "execution_count": 2,
   "id": "9227c23e",
   "metadata": {},
   "outputs": [],
   "source": [
    "import requests\n",
    "import json\n",
    "from math import ceil"
   ]
  },
  {
   "cell_type": "markdown",
   "id": "a50b35f7",
   "metadata": {},
   "source": [
    "## Get the articles"
   ]
  },
  {
   "cell_type": "code",
   "execution_count": 3,
   "id": "6890df1d",
   "metadata": {},
   "outputs": [],
   "source": [
    "openalex_url = \"https://api.openalex.org/works\""
   ]
  },
  {
   "cell_type": "code",
   "execution_count": 6,
   "id": "2b7eaa53",
   "metadata": {},
   "outputs": [],
   "source": [
    "def download_ai_ml_articles(url):\n",
    "    params = {\n",
    "        #\"filter\": \"concepts.id:('ai_concept_id','ml_concept_id')\"  # Replace with actual concept IDs.\n",
    "        #\"type\": \"article\"\n",
    "    }\n",
    "    \n",
    "    articles = []\n",
    "    \n",
    "    page = 1\n",
    "    \n",
    "    while True:\n",
    "        params['page'] = page\n",
    "        response = requests.get(url, params=params)\n",
    "\n",
    "        if response.status_code == 200:\n",
    "            data = response.json()\n",
    "            print(data['results'][0]['keywords'])\n",
    "            print(data['results'][0]['concepts'])\n",
    "            articles.extend(data['results'])\n",
    "\n",
    "\n",
    "            if 'next' not in data or not data['next']:\n",
    "                break\n",
    "\n",
    "            page += 1\n",
    "        else:\n",
    "            print(f\"Failed to fetch data: {response.status_code}\")\n",
    "            break\n",
    "        break"
   ]
  },
  {
   "cell_type": "code",
   "execution_count": 7,
   "id": "88e5490d",
   "metadata": {},
   "outputs": [
    {
     "name": "stdout",
     "output_type": "stream",
     "text": [
      "[{'keyword': 'folin phenol reagent', 'score': 0.8403}, {'keyword': 'protein', 'score': 0.4743}]\n",
      "[{'id': 'https://openalex.org/C40875361', 'wikidata': 'https://www.wikidata.org/wiki/Q2356542', 'display_name': 'Reagent', 'level': 2, 'score': 0.97526133}, {'id': 'https://openalex.org/C185592680', 'wikidata': 'https://www.wikidata.org/wiki/Q2329', 'display_name': 'Chemistry', 'level': 0, 'score': 0.83260155}, {'id': 'https://openalex.org/C2777702071', 'wikidata': 'https://www.wikidata.org/wiki/Q130336', 'display_name': 'Phenol', 'level': 2, 'score': 0.5855713}, {'id': 'https://openalex.org/C43617362', 'wikidata': 'https://www.wikidata.org/wiki/Q170050', 'display_name': 'Chromatography', 'level': 1, 'score': 0.55636495}, {'id': 'https://openalex.org/C178790620', 'wikidata': 'https://www.wikidata.org/wiki/Q11351', 'display_name': 'Organic chemistry', 'level': 1, 'score': 0.2482543}]\n"
     ]
    }
   ],
   "source": [
    "download_ai_ml_articles(openalex_url)"
   ]
  },
  {
   "cell_type": "markdown",
   "id": "9ce70a2c",
   "metadata": {},
   "source": [
    "Too many of them, and I figured out that there is a **concepts** collection which already contains the counts that I eed"
   ]
  },
  {
   "cell_type": "markdown",
   "id": "c021ab3e",
   "metadata": {},
   "source": [
    "## Get the concepts"
   ]
  },
  {
   "cell_type": "code",
   "execution_count": 8,
   "id": "55978fbf",
   "metadata": {},
   "outputs": [],
   "source": [
    "concepts_url = \"https://api.openalex.org/concepts\""
   ]
  },
  {
   "cell_type": "code",
   "execution_count": 9,
   "id": "32d05e17",
   "metadata": {},
   "outputs": [
    {
     "data": {
      "text/plain": [
       "2603"
      ]
     },
     "execution_count": 9,
     "metadata": {},
     "output_type": "execute_result"
    }
   ],
   "source": [
    "metadata = {\n",
    "    \"count\": 65073,\n",
    "    \"db_response_time_ms\": 48,\n",
    "    \"page\": 1,\n",
    "    \"per_page\": 25,\n",
    "    \"groups_count\": None\n",
    "}\n",
    "pages = ceil(metadata['count']/metadata['per_page'])\n",
    "pages"
   ]
  },
  {
   "cell_type": "code",
   "execution_count": 36,
   "id": "98d61bee",
   "metadata": {},
   "outputs": [],
   "source": [
    "def download_concepts(url):\n",
    "    params = {}\n",
    "    \n",
    "    concepts = []\n",
    "    concept_count = 0\n",
    "    \n",
    "    page = 1\n",
    "    with open('concepts_per_page/concepts.jsonl', 'a+') as file:\n",
    "        for page in range(1, pages+1):\n",
    "            print(f'Fetching page: {page}')\n",
    "            \n",
    "            params['page'] = page\n",
    "            response = requests.get(url, params=params)\n",
    "\n",
    "            if response.status_code == 200:\n",
    "                data = response.json()\n",
    "                page_results = data['results']\n",
    "                file.write(json.dumps(page_results) + '\\n')\n",
    "                \n",
    "                for concept in page_results:\n",
    "                    print(f\"Building up concept: {concept['display_name']}\")\n",
    "                    concept_json = {\n",
    "                        \"name\": concept['display_name'],\n",
    "                        \"ancestors\": [],\n",
    "                        \"related_concepts\": [],\n",
    "                        \"counts_by_year\": concept['counts_by_year']\n",
    "                    }\n",
    "                    for ancestor in concept['ancestors']:\n",
    "                        concept_json['ancestors'].append(ancestor['display_name'])\n",
    "                    for related_concept in concept['related_concepts']:\n",
    "                        concept_json['related_concepts'].append(related_concept['display_name'])\n",
    "                \n",
    "                    with open('openalex_concepts.jsonl', 'a+') as f:  \n",
    "                        f.write(json.dumps(concept_json) + '\\n')\n",
    "\n",
    "                page += 1\n",
    "            else:\n",
    "                print(f\"Failed to fetch data: {response.status_code}\")\n",
    "                break\n",
    "            break"
   ]
  },
  {
   "cell_type": "code",
   "execution_count": 37,
   "id": "fde03c53",
   "metadata": {},
   "outputs": [
    {
     "name": "stdout",
     "output_type": "stream",
     "text": [
      "Fetching page: 1\n",
      "Building up concept: Computer science\n",
      "Building up concept: Medicine\n",
      "Building up concept: Biology\n",
      "Building up concept: Physics\n",
      "Building up concept: Political science\n",
      "Building up concept: Chemistry\n",
      "Building up concept: Philosophy\n",
      "Building up concept: Engineering\n",
      "Building up concept: Mathematics\n",
      "Building up concept: Psychology\n",
      "Building up concept: Internal medicine\n",
      "Building up concept: Materials science\n",
      "Building up concept: Art\n",
      "Building up concept: Geography\n",
      "Building up concept: Law\n",
      "Building up concept: Business\n",
      "Building up concept: Sociology\n",
      "Building up concept: Humanities\n",
      "Building up concept: Economics\n",
      "Building up concept: Quantum mechanics\n",
      "Building up concept: Biochemistry\n",
      "Building up concept: Organic chemistry\n",
      "Building up concept: Artificial intelligence\n",
      "Building up concept: Geology\n",
      "Building up concept: History\n"
     ]
    }
   ],
   "source": [
    "download_concepts(concepts_url)"
   ]
  },
  {
   "cell_type": "code",
   "execution_count": 10,
   "id": "b3518de0",
   "metadata": {},
   "outputs": [],
   "source": [
    "#https://api.openalex.org/works?filter=concepts.id:https://openalex.org/C41008148\n"
   ]
  }
 ],
 "metadata": {
  "kernelspec": {
   "display_name": "Python 3 (ipykernel)",
   "language": "python",
   "name": "python3"
  },
  "language_info": {
   "codemirror_mode": {
    "name": "ipython",
    "version": 3
   },
   "file_extension": ".py",
   "mimetype": "text/x-python",
   "name": "python",
   "nbconvert_exporter": "python",
   "pygments_lexer": "ipython3",
   "version": "3.10.12"
  }
 },
 "nbformat": 4,
 "nbformat_minor": 5
}
